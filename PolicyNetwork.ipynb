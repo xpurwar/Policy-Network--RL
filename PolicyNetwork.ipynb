{
  "cells": [
    {
      "cell_type": "markdown",
      "metadata": {
        "id": "view-in-github",
        "colab_type": "text"
      },
      "source": [
        "<a href=\"https://colab.research.google.com/github/xpurwar/Policy-Network--RL/blob/main/PolicyNetwork.ipynb\" target=\"_parent\"><img src=\"https://colab.research.google.com/assets/colab-badge.svg\" alt=\"Open In Colab\"/></a>"
      ]
    },
    {
      "cell_type": "code",
      "execution_count": null,
      "metadata": {
        "colab": {
          "base_uri": "https://localhost:8080/"
        },
        "id": "KJUp6QBRY-Qd",
        "outputId": "ae01c145-1bb3-484a-c340-53f0f33d32e4"
      },
      "outputs": [
        {
          "output_type": "stream",
          "name": "stdout",
          "text": [
            "Requirement already satisfied: gymnasium in /usr/local/lib/python3.11/dist-packages (1.0.0)\n",
            "Requirement already satisfied: numpy>=1.21.0 in /usr/local/lib/python3.11/dist-packages (from gymnasium) (1.26.4)\n",
            "Requirement already satisfied: cloudpickle>=1.2.0 in /usr/local/lib/python3.11/dist-packages (from gymnasium) (3.1.1)\n",
            "Requirement already satisfied: typing-extensions>=4.3.0 in /usr/local/lib/python3.11/dist-packages (from gymnasium) (4.12.2)\n",
            "Requirement already satisfied: farama-notifications>=0.0.1 in /usr/local/lib/python3.11/dist-packages (from gymnasium) (0.0.4)\n"
          ]
        }
      ],
      "source": [
        "!pip install gymnasium"
      ]
    },
    {
      "cell_type": "code",
      "execution_count": 1,
      "metadata": {
        "id": "K_GLg7lbayhm"
      },
      "outputs": [],
      "source": [
        "from time import sleep\n",
        "import numpy as np\n",
        "from IPython.display import clear_output\n",
        "import gymnasium as gym\n",
        "from gymnasium.envs.registration import register\n",
        "import torch\n",
        "from torch import nn\n",
        "import matplotlib.pyplot as plt"
      ]
    },
    {
      "cell_type": "code",
      "execution_count": 2,
      "metadata": {
        "colab": {
          "base_uri": "https://localhost:8080/"
        },
        "id": "7PWN1PkGe66q",
        "outputId": "ffb8316c-e7d2-4a5a-c35c-bedf90d00153"
      },
      "outputs": [
        {
          "output_type": "stream",
          "name": "stdout",
          "text": [
            "Mounted at /gdrive\n"
          ]
        }
      ],
      "source": [
        "#Give colab access to your google drive:\n",
        "from google.colab import drive\n",
        "drive.mount('/gdrive')"
      ]
    },
    {
      "cell_type": "code",
      "execution_count": 6,
      "metadata": {
        "colab": {
          "base_uri": "https://localhost:8080/"
        },
        "id": "1SCX1d90YjOg",
        "outputId": "c410bb76-eb88-4fa7-afb9-4afba20ea0ff"
      },
      "outputs": [
        {
          "output_type": "stream",
          "name": "stdout",
          "text": [
            "/content/drive/MyDrive/Reinforcement Learning\n"
          ]
        }
      ],
      "source": [
        "#Change current directory to folder with MiniPacManGym.py\n",
        "%cd /content/drive/MyDrive/Reinforcement Learning"
      ]
    },
    {
      "cell_type": "code",
      "execution_count": 4,
      "metadata": {
        "colab": {
          "base_uri": "https://localhost:8080/"
        },
        "id": "P4BdAhhJhWzG",
        "outputId": "98cec946-a97b-49c5-fe70-ba5d7e98d4d2"
      },
      "outputs": [
        {
          "output_type": "stream",
          "name": "stdout",
          "text": [
            "Mounted at /content/drive\n"
          ]
        }
      ],
      "source": [
        "from google.colab import drive\n",
        "drive.mount('/content/drive')"
      ]
    },
    {
      "cell_type": "code",
      "execution_count": 7,
      "metadata": {
        "id": "GCa5TYdVWL2y"
      },
      "outputs": [],
      "source": [
        "#Import MiniPacMan environment class definition\n",
        "from MiniPacManGym import MiniPacManEnv"
      ]
    },
    {
      "cell_type": "code",
      "execution_count": 8,
      "metadata": {
        "id": "TcY1Q97RRy6J"
      },
      "outputs": [],
      "source": [
        "#Register MiniPacMan in your gymnasium environments\n",
        "register(\n",
        "    id=\"MiniPacMan-v0\",\n",
        "    entry_point=MiniPacManEnv,\n",
        "    max_episode_steps=20\n",
        ")"
      ]
    },
    {
      "cell_type": "code",
      "execution_count": 9,
      "metadata": {
        "id": "k7hwnC7Ob9VJ"
      },
      "outputs": [],
      "source": [
        "#Create a MiniPacMan gymnasium environment\n",
        "env = gym.make(\"MiniPacMan-v0\", render_mode=\"human\", frozen_ghost=True)"
      ]
    },
    {
      "cell_type": "code",
      "execution_count": 13,
      "metadata": {
        "colab": {
          "base_uri": "https://localhost:8080/"
        },
        "id": "uA5eYlbHWzAu",
        "outputId": "15c93c6b-127d-4ab1-fc5c-25b9792abce2"
      },
      "outputs": [
        {
          "output_type": "execute_result",
          "data": {
            "text/plain": [
              "tensor([[0.3649, 0.2702, 0.1772, 0.1877]], grad_fn=<SoftmaxBackward0>)"
            ]
          },
          "metadata": {},
          "execution_count": 13
        }
      ],
      "source": [
        "# neural net:\n",
        "class NN(nn.Module):\n",
        "    def __init__(self):\n",
        "      super().__init__()\n",
        "      # 6x6 is input\n",
        "      self.flatten = nn.Flatten()\n",
        "      self.linear1 = nn.Linear(36, 16)\n",
        "      self.activation1 = nn.ReLU()\n",
        "      self.linear2 = nn.Linear(16, 4)\n",
        "      self.softmax = nn.Softmax() # softmax layer turns the output into probabilites\n",
        "\n",
        "    def forward(self, x):\n",
        "      x = self.flatten(x)\n",
        "      x = self.linear1(x)\n",
        "      x = self.activation1(x)\n",
        "      x = self.linear2(x)\n",
        "      x = self.softmax(x)\n",
        "      return x\n",
        "\n",
        "p_net = NN()\n",
        "test = torch.ones((1,6,6))\n",
        "p_net(test)"
      ]
    },
    {
      "cell_type": "code",
      "source": [
        "# random testing\n",
        "obs = torch.ones((1,6,6))\n",
        "actions = p_net(obs).detach().squeeze()\n",
        "print(actions)\n",
        "action = np.random.multinomial(1, actions)\n",
        "print(action)"
      ],
      "metadata": {
        "colab": {
          "base_uri": "https://localhost:8080/"
        },
        "id": "FeXyrk89VxjC",
        "outputId": "7e6ab3ac-d2b5-47cf-c9b6-1d204d036de4"
      },
      "execution_count": 11,
      "outputs": [
        {
          "output_type": "stream",
          "name": "stdout",
          "text": [
            "tensor([0.2398, 0.1809, 0.3430, 0.2363])\n",
            "[1 0 0 0]\n"
          ]
        }
      ]
    },
    {
      "cell_type": "code",
      "source": [
        "# Hyperparameters\n",
        "gamma = 0.95\n",
        "num_updates = 100\n",
        "num_trajectories = 100\n",
        "epsilon = 1\n",
        "opt = torch.optim.Adam(p_net.parameters(), lr = 0.01)\n",
        "win_rate = []\n",
        "\n",
        "for e in range(num_updates):\n",
        "    B = []  # Buffer to store log probs and total rewards\n",
        "    win = 0\n",
        "\n",
        "    for t in range(num_trajectories):\n",
        "        new_obs, info = env.reset()\n",
        "        new_obs = torch.tensor(new_obs, dtype=torch.float32).unsqueeze(0)  # Shape (1,6,6)\n",
        "        done = False\n",
        "        truncated = False\n",
        "        T = []  # Trajectory buffer\n",
        "\n",
        "        while not done and not truncated: # for one trajectory\n",
        "            obs = new_obs\n",
        "\n",
        "            # Choose action\n",
        "            action_probs = p_net(obs)  # Forward pass\n",
        "            action_dist = torch.distributions.Categorical(action_probs)\n",
        "            action = action_dist.sample()\n",
        "\n",
        "            # Take action\n",
        "            new_obs, reward, done, truncated, info = env.step(action.item())  # Ensure action is an integer\n",
        "            new_obs = torch.tensor(new_obs, dtype=torch.float32).unsqueeze(0)\n",
        "\n",
        "            # Store log probability and reward\n",
        "            log_prob = action_dist.log_prob(action)\n",
        "            T.append((log_prob, reward))\n",
        "            #print(reward)\n",
        "\n",
        "            if reward == 10:\n",
        "              win += 1\n",
        "\n",
        "\n",
        "        # Compute total discounted reward\n",
        "        R = 0\n",
        "        for log_prob, reward in reversed(T):  # Reverse iterate for discounting\n",
        "            R = reward + gamma * R\n",
        "            B.append((log_prob, torch.tensor(R, dtype=torch.float32)))  # Ensure R is a tensor\n",
        "\n",
        "    win_percentage = (win / num_trajectories) * 100\n",
        "    win_rate.append(win_percentage)\n",
        "\n",
        "    # Compute policy loss using log probabilities\n",
        "    policy_loss = torch.sum(torch.stack([-log_prob * R for log_prob, R in B])) / len(B)\n",
        "\n",
        "    # Backpropagation\n",
        "    opt.zero_grad()\n",
        "    policy_loss.backward()\n",
        "    opt.step()\n",
        "\n",
        "    # Periodic reporting\n",
        "    if e % 10 == 0:\n",
        "        print(f'Update: {e}, Loss: {policy_loss.item():.4f}, Win rate: {win_percentage}')\n"
      ],
      "metadata": {
        "colab": {
          "base_uri": "https://localhost:8080/"
        },
        "id": "flUyZmHDycls",
        "outputId": "e688394d-d57e-4804-d6f6-8f94faf8aa62"
      },
      "execution_count": 14,
      "outputs": [
        {
          "output_type": "stream",
          "name": "stdout",
          "text": [
            "Update: 0, Loss: -12.5362, Win rate: 0.0\n",
            "Update: 10, Loss: -11.1942, Win rate: 2.0\n",
            "Update: 20, Loss: -5.9273, Win rate: 15.0\n",
            "Update: 30, Loss: -5.0492, Win rate: 20.0\n",
            "Update: 40, Loss: 0.6982, Win rate: 62.0\n",
            "Update: 50, Loss: 1.0467, Win rate: 78.0\n",
            "Update: 60, Loss: 2.3895, Win rate: 94.0\n",
            "Update: 70, Loss: 2.5016, Win rate: 98.0\n",
            "Update: 80, Loss: 2.9330, Win rate: 100.0\n",
            "Update: 90, Loss: 2.0506, Win rate: 99.0\n"
          ]
        }
      ]
    },
    {
      "cell_type": "code",
      "execution_count": 15,
      "metadata": {
        "colab": {
          "base_uri": "https://localhost:8080/"
        },
        "id": "0SXyI97eNx6L",
        "outputId": "7850f316-fba3-4fdb-bae4-330fe7453879"
      },
      "outputs": [
        {
          "output_type": "stream",
          "name": "stdout",
          "text": [
            "xxxxxx\n",
            "x····x\n",
            "x··ᗣ·x\n",
            "x····x\n",
            "x···ᗧx\n",
            "xxxxxx\n",
            "\n"
          ]
        }
      ],
      "source": [
        "#Run this code cell to see your trained agent in action!\n",
        "\n",
        "obs, info = env.reset()\n",
        "done = False\n",
        "truncated = False\n",
        "\n",
        "while not done and not truncated:\n",
        "    env.render()\n",
        "    obs = torch.tensor(obs, dtype=torch.float32).unsqueeze(0)\n",
        "    action_probs = p_net(obs)  # Forward pass\n",
        "    action_dist = torch.distributions.Categorical(action_probs)\n",
        "    action = action_dist.sample()\n",
        "    obs, reward, done, truncated, info = env.step(action)\n",
        "    sleep(0.5)\n",
        "    clear_output(wait=True)\n",
        "env.render()\n",
        "env.close()"
      ]
    },
    {
      "cell_type": "code",
      "execution_count": 16,
      "metadata": {
        "colab": {
          "base_uri": "https://localhost:8080/",
          "height": 472
        },
        "id": "VZjO1S_URYs2",
        "outputId": "1f1c00ee-ce2c-4f6f-f530-70755157828f"
      },
      "outputs": [
        {
          "output_type": "display_data",
          "data": {
            "text/plain": [
              "<Figure size 640x480 with 1 Axes>"
            ],
            "image/png": "[encoded data removed]"
          },
          "metadata": {}
        }
      ],
      "source": [
        "plt.plot(win_rate, color='pink')\n",
        "plt.title(\"Learning Rate\", color='hotpink')\n",
        "plt.xlabel(\"Number of updates\", color='deeppink')\n",
        "plt.ylabel(\"Win percentage\", color='deeppink')\n",
        "plt.grid(True, linestyle='--', alpha=0.5)  # Light grid for visibility\n",
        "plt.show()"
      ]
    },
    {
      "cell_type": "code",
      "execution_count": null,
      "metadata": {
        "id": "IggU9ms6EKDh"
      },
      "outputs": [],
      "source": []
    }
  ],
  "metadata": {
    "colab": {
      "provenance": [],
      "include_colab_link": true
    },
    "kernelspec": {
      "display_name": "Python 3",
      "name": "python3"
    },
    "language_info": {
      "name": "python"
    }
  },
  "nbformat": 4,
  "nbformat_minor": 0
}